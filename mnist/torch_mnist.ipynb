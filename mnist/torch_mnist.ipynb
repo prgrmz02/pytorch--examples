{
  "nbformat": 4,
  "nbformat_minor": 0,
  "metadata": {
    "colab": {
      "provenance": [],
      "collapsed_sections": [
        "URxzpnOuU-qZ"
      ],
      "authorship_tag": "ABX9TyPhN4Eu6qz6JUYMQHaMeGd9"
    },
    "kernelspec": {
      "name": "python3",
      "display_name": "Python 3"
    },
    "language_info": {
      "name": "python"
    }
  },
  "cells": [
    {
      "cell_type": "markdown",
      "source": [
        "https://github.com/pytorch/examples/blob/a38cbfc6f817d9015fc67a6309d3a0be9ff94ab6/mnist/main.py"
      ],
      "metadata": {
        "id": "7_oPRUGU9xZp"
      }
    },
    {
      "cell_type": "code",
      "execution_count": 179,
      "metadata": {
        "colab": {
          "base_uri": "https://localhost:8080/"
        },
        "collapsed": true,
        "id": "Mv1SFY3z9WiV",
        "outputId": "c2626e7f-178a-4df1-a095-4137f2962abe"
      },
      "outputs": [
        {
          "output_type": "stream",
          "name": "stdout",
          "text": [
            "Requirement already satisfied: torch in /usr/local/lib/python3.10/dist-packages (2.3.0+cu121)\n",
            "Requirement already satisfied: filelock in /usr/local/lib/python3.10/dist-packages (from torch) (3.15.1)\n",
            "Requirement already satisfied: typing-extensions>=4.8.0 in /usr/local/lib/python3.10/dist-packages (from torch) (4.12.2)\n",
            "Requirement already satisfied: sympy in /usr/local/lib/python3.10/dist-packages (from torch) (1.12.1)\n",
            "Requirement already satisfied: networkx in /usr/local/lib/python3.10/dist-packages (from torch) (3.3)\n",
            "Requirement already satisfied: jinja2 in /usr/local/lib/python3.10/dist-packages (from torch) (3.1.4)\n",
            "Requirement already satisfied: fsspec in /usr/local/lib/python3.10/dist-packages (from torch) (2023.6.0)\n",
            "Requirement already satisfied: nvidia-cuda-nvrtc-cu12==12.1.105 in /usr/local/lib/python3.10/dist-packages (from torch) (12.1.105)\n",
            "Requirement already satisfied: nvidia-cuda-runtime-cu12==12.1.105 in /usr/local/lib/python3.10/dist-packages (from torch) (12.1.105)\n",
            "Requirement already satisfied: nvidia-cuda-cupti-cu12==12.1.105 in /usr/local/lib/python3.10/dist-packages (from torch) (12.1.105)\n",
            "Requirement already satisfied: nvidia-cudnn-cu12==8.9.2.26 in /usr/local/lib/python3.10/dist-packages (from torch) (8.9.2.26)\n",
            "Requirement already satisfied: nvidia-cublas-cu12==12.1.3.1 in /usr/local/lib/python3.10/dist-packages (from torch) (12.1.3.1)\n",
            "Requirement already satisfied: nvidia-cufft-cu12==11.0.2.54 in /usr/local/lib/python3.10/dist-packages (from torch) (11.0.2.54)\n",
            "Requirement already satisfied: nvidia-curand-cu12==10.3.2.106 in /usr/local/lib/python3.10/dist-packages (from torch) (10.3.2.106)\n",
            "Requirement already satisfied: nvidia-cusolver-cu12==11.4.5.107 in /usr/local/lib/python3.10/dist-packages (from torch) (11.4.5.107)\n",
            "Requirement already satisfied: nvidia-cusparse-cu12==12.1.0.106 in /usr/local/lib/python3.10/dist-packages (from torch) (12.1.0.106)\n",
            "Requirement already satisfied: nvidia-nccl-cu12==2.20.5 in /usr/local/lib/python3.10/dist-packages (from torch) (2.20.5)\n",
            "Requirement already satisfied: nvidia-nvtx-cu12==12.1.105 in /usr/local/lib/python3.10/dist-packages (from torch) (12.1.105)\n",
            "Requirement already satisfied: triton==2.3.0 in /usr/local/lib/python3.10/dist-packages (from torch) (2.3.0)\n",
            "Requirement already satisfied: nvidia-nvjitlink-cu12 in /usr/local/lib/python3.10/dist-packages (from nvidia-cusolver-cu12==11.4.5.107->torch) (12.5.40)\n",
            "Requirement already satisfied: MarkupSafe>=2.0 in /usr/local/lib/python3.10/dist-packages (from jinja2->torch) (2.1.5)\n",
            "Requirement already satisfied: mpmath<1.4.0,>=1.1.0 in /usr/local/lib/python3.10/dist-packages (from sympy->torch) (1.3.0)\n",
            "Requirement already satisfied: einops in /usr/local/lib/python3.10/dist-packages (0.8.0)\n"
          ]
        }
      ],
      "source": [
        "%%bash\n",
        "pip install torch\n",
        "pip install einops"
      ]
    },
    {
      "cell_type": "code",
      "source": [
        "import argparse\n",
        "import torch\n",
        "import torch.nn as nn\n",
        "import torch.nn.functional as F\n",
        "import torch.optim as optim\n",
        "from torchvision import datasets, transforms\n",
        "from torch.optim.lr_scheduler import StepLR"
      ],
      "metadata": {
        "id": "cHOxffWx98T0"
      },
      "execution_count": 180,
      "outputs": []
    },
    {
      "cell_type": "code",
      "source": [
        "class Net(nn.Module):\n",
        "    def __init__(self):\n",
        "        super(Net, self).__init__()\n",
        "        self.conv1 = nn.Conv2d(1, 32, 3, 1)\n",
        "        self.conv2 = nn.Conv2d(32, 64, 3, 1)\n",
        "        self.dropout1 = nn.Dropout(0.25)\n",
        "        self.dropout2 = nn.Dropout(0.5)\n",
        "        self.fc1 = nn.Linear(9216, 128)\n",
        "        self.fc2 = nn.Linear(128, 10)\n",
        "        self._i:int=0\n",
        "\n",
        "    def forward(self, x):\n",
        "        x = self.conv1(x)\n",
        "        x = F.relu(x)\n",
        "        x = self.conv2(x)\n",
        "        x = F.relu(x)\n",
        "        x = F.max_pool2d(x, 2)\n",
        "        x = self.dropout1(x)\n",
        "        x = torch.flatten(x, 1)\n",
        "        x = self.fc1(x)\n",
        "        x = F.relu(x)\n",
        "        x = self.dropout2(x)\n",
        "        x = self.fc2(x)\n",
        "        output = F.log_softmax(x, dim=1)\n",
        "\n",
        "\n",
        "        self._i=self._i+1\n",
        "        if self._i % 100==0:\n",
        "          pass\n",
        "          # print(f\"i@forward={self._i}\")\n",
        "          # print(f\"[LOGG@forward] type(x)={type(x)}, x.shape={x.shape}; type(output)={type(output)}, output.shape={output.shape}\")\n",
        "          # [LOGG@forward] type(x)=<class 'torch.Tensor'>, x.shape=torch.Size([64, 10]); type(output)=<class 'torch.Tensor'>, output.shape=torch.Size([64, 10])\n",
        "\n",
        "        return output"
      ],
      "metadata": {
        "id": "v8rS1CMm9_pX"
      },
      "execution_count": 181,
      "outputs": []
    },
    {
      "cell_type": "code",
      "source": [
        "log_interval=40\n",
        "\n",
        "def train( model, device, train_loader, optimizer, epoch):\n",
        "    model.train()\n",
        "    for batch_idx, (data, target) in enumerate(train_loader):\n",
        "        data, target = data.to(device), target.to(device)\n",
        "        optimizer.zero_grad()\n",
        "        output = model(data)\n",
        "        # print(f\"[LOGG@train] type(data)={type(data)}, data.shape={data.shape}; type(target)={type(target)}, target.shape={target.shape}\")\n",
        "        # [LOGG@train] type(data)=<class 'torch.Tensor'>, data.shape=torch.Size([64, 1, 28, 28]); type(target)=<class 'torch.Tensor'>, target.shape=torch.Size([64])\n",
        "        loss = F.nll_loss(output, target)\n",
        "        loss.backward()\n",
        "        optimizer.step()\n",
        "        if batch_idx % log_interval == 0:\n",
        "            print('Train Epoch: {} [{}/{} ({:.0f}%)]\\tLoss: {:.6f}'.format(\n",
        "                epoch, batch_idx * len(data), len(train_loader.dataset),\n",
        "                100. * batch_idx / len(train_loader), loss.item()))\n"
      ],
      "metadata": {
        "id": "fdDQqxXS-AyX"
      },
      "execution_count": 182,
      "outputs": []
    },
    {
      "cell_type": "code",
      "source": [
        "\n",
        "\n",
        "def test(model, device, test_loader):\n",
        "    model.eval()\n",
        "    test_loss = 0\n",
        "    correct = 0\n",
        "    with torch.no_grad():\n",
        "        for data, target in test_loader:\n",
        "            # print(f\"[LOGG@test] type(data)={type(data)}, data.shape={data.shape};  type(target)={type(target)}, target.shape={target.shape}\")\n",
        "            # [LOGG@test] type(data)=<class 'torch.Tensor'>, data.shape=torch.Size([1000, 1, 28, 28]);  type(target)=<class 'torch.Tensor'>, target.shape=torch.Size([1000])\n",
        "            data, target = data.to(device), target.to(device)\n",
        "            output = model(data)\n",
        "            test_loss += F.nll_loss(output, target, reduction='sum').item()  # sum up batch loss\n",
        "            pred = output.argmax(dim=1, keepdim=True)  # get the index of the max log-probability\n",
        "            correct += pred.eq(target.view_as(pred)).sum().item()\n",
        "\n",
        "    test_loss /= len(test_loader.dataset)\n",
        "\n",
        "    print('\\nTest set: Average loss: {:.4f}, Accuracy: {}/{} ({:.0f}%)\\n'.format(\n",
        "        test_loss, correct, len(test_loader.dataset),\n",
        "        100. * correct / len(test_loader.dataset)))\n"
      ],
      "metadata": {
        "id": "_FHX7bwP-Chr"
      },
      "execution_count": 183,
      "outputs": []
    },
    {
      "cell_type": "code",
      "source": [
        "device = torch.device(\"cpu\")\n",
        "batch_size=64\n",
        "test_batch_size=1000\n",
        "epochs=2\n",
        "lr=1.0\n",
        "gamma=0.7"
      ],
      "metadata": {
        "id": "9XUjAfDx-LCk"
      },
      "execution_count": 184,
      "outputs": []
    },
    {
      "cell_type": "code",
      "source": [
        "train_kwargs = {'batch_size': batch_size}\n",
        "test_kwargs = {'batch_size': test_batch_size}\n",
        "\n",
        "\n",
        "transform=transforms.Compose([\n",
        "    transforms.ToTensor(),\n",
        "    transforms.Normalize((0.1307,), (0.3081,))\n",
        "    ])\n",
        "dataset1 = datasets.MNIST('../data', train=True, download=True,\n",
        "                    transform=transform)\n",
        "dataset2 = datasets.MNIST('../data', train=False,\n",
        "                    transform=transform)\n",
        "# print(f\"[LOGG@main] type(dataset1)={type(dataset1)} ;  type(dataset2)={type(dataset2)} \")\n",
        "#[LOGG@main] type(dataset1)=<class 'torchvision.datasets.mnist.MNIST'> ;  type(dataset2)=<class 'torchvision.datasets.mnist.MNIST'>\n",
        "#https://github.com/pytorch/vision/blob/v0.18.1/torchvision/datasets/mnist.py\n",
        "# print(f\"[LOGG@main] type(dataset1)={type(dataset1)}, dataset1.train_data.shape={dataset1.train_data.shape}, dataset1.train_labels.shape={dataset1.train_labels.shape}; dataset1.test_data.shape={dataset1.test_data.shape}, dataset1.test_labels.shape={dataset1.test_labels.shape}\")\n",
        "#[LOGG@main] type(dataset1)=<class 'torchvision.datasets.mnist.MNIST'>, dataset1.train_data.shape=torch.Size([60000, 28, 28]), dataset1.train_labels.shape=torch.Size([60000]); dataset1.test_data.shape=torch.Size([60000, 28, 28]), dataset1.test_labels.shape=torch.Size([60000])\n",
        "# print(f\"[LOGG@main] type(dataset2)={type(dataset2)}, dataset2.train_data.shape={dataset2.train_data.shape}, dataset2.train_labels.shape={dataset2.train_labels.shape}; dataset2.test_data.shape={dataset2.test_data.shape}, dataset2.test_labels.shape={dataset2.test_labels.shape}\")\n",
        "# [LOGG@main] type(dataset2)=<class 'torchvision.datasets.mnist.MNIST'>, dataset2.train_data.shape=torch.Size([10000, 28, 28]), dataset2.train_labels.shape=torch.Size([10000]); dataset2.test_data.shape=torch.Size([10000, 28, 28]), dataset2.test_labels.shape=torch.Size([10000])\n"
      ],
      "metadata": {
        "id": "9BqI6J7f-O88",
        "collapsed": true
      },
      "execution_count": 185,
      "outputs": []
    },
    {
      "cell_type": "code",
      "source": [
        "train_loader = torch.utils.data.DataLoader(dataset1,**train_kwargs)\n",
        "test_loader = torch.utils.data.DataLoader(dataset2, **test_kwargs)\n",
        "\n",
        "# print(f\"[LOGG@main] type(train_loader)={type(train_loader)} ;  type(test_loader)={type(test_loader)} \")\n",
        "# [LOGG@main] type(train_loader)=<class 'torch.utils.data.dataloader.DataLoader'> ;  type(test_loader)=<class 'torch.utils.data.dataloader.DataLoader'>\n",
        "#https://github.com/pytorch/pytorch/blob/v2.3.1/torch/utils/data/dataloader.py\n",
        "\n",
        "# print(f\"[LOGG@main] type(train_loader)={type(train_loader)}, type(train_loader.dataset)={type(train_loader.dataset)}  \")\n",
        "# [LOGG@main] type(train_loader)=<class 'torch.utils.data.dataloader.DataLoader'>, type(train_loader.dataset)=<class 'torchvision.datasets.mnist.MNIST'>\n",
        "\n",
        "# print(f\"[LOGG@main]  train_loader.dataset == dataset1: {train_loader.dataset == dataset1}  \")\n",
        "# train_loader.dataset == dataset1: True\n",
        "# print(f\"[LOGG@main]  test_loader.dataset == dataset2: {test_loader.dataset == dataset2}  \")\n",
        "# test_loader.dataset == dataset2: True\n",
        "\n",
        "\n",
        "model = Net().to(device)\n",
        "optimizer = optim.Adadelta(model.parameters(), lr=lr)\n",
        "\n",
        "scheduler = StepLR(optimizer, step_size=1, gamma=gamma)\n",
        "\n",
        "\n"
      ],
      "metadata": {
        "collapsed": true,
        "id": "tVaLNbVkUR4R"
      },
      "execution_count": 186,
      "outputs": []
    },
    {
      "cell_type": "code",
      "source": [
        "\n",
        "\n",
        "#正常将一个手工扣出来的x,喂给model\n",
        "x,y=next(iter(train_loader))\n",
        "x.shape,y.shape, model(x).shape"
      ],
      "metadata": {
        "colab": {
          "base_uri": "https://localhost:8080/"
        },
        "id": "9UDQ3xWqt6kj",
        "outputId": "3b47ac40-dd27-4eea-82fd-d63a18a2740a"
      },
      "execution_count": 187,
      "outputs": [
        {
          "output_type": "execute_result",
          "data": {
            "text/plain": [
              "(torch.Size([64, 1, 28, 28]), torch.Size([64]), torch.Size([64, 10]))"
            ]
          },
          "metadata": {},
          "execution_count": 187
        }
      ]
    },
    {
      "cell_type": "code",
      "source": [
        "\n",
        "\n",
        "for epoch in range(1, epochs + 1):\n",
        "    train( model, device, train_loader, optimizer, epoch)\n",
        "    test(model, device, test_loader)\n",
        "    scheduler.step()\n",
        "\n",
        "torch.save(model.state_dict(), \"mnist_cnn.pt\")"
      ],
      "metadata": {
        "colab": {
          "base_uri": "https://localhost:8080/"
        },
        "id": "WkYl50egtwjE",
        "outputId": "ab1f482b-c038-4003-9cf3-439349b84d97"
      },
      "execution_count": null,
      "outputs": [
        {
          "output_type": "stream",
          "name": "stdout",
          "text": [
            "Train Epoch: 1 [0/60000 (0%)]\tLoss: 2.300946\n",
            "Train Epoch: 1 [2560/60000 (4%)]\tLoss: 0.391631\n",
            "Train Epoch: 1 [5120/60000 (9%)]\tLoss: 0.501184\n",
            "Train Epoch: 1 [7680/60000 (13%)]\tLoss: 0.235969\n",
            "Train Epoch: 1 [10240/60000 (17%)]\tLoss: 0.266947\n",
            "Train Epoch: 1 [12800/60000 (21%)]\tLoss: 0.107735\n",
            "Train Epoch: 1 [15360/60000 (26%)]\tLoss: 0.242226\n",
            "Train Epoch: 1 [17920/60000 (30%)]\tLoss: 0.098669\n",
            "Train Epoch: 1 [20480/60000 (34%)]\tLoss: 0.035753\n",
            "Train Epoch: 1 [23040/60000 (38%)]\tLoss: 0.192644\n",
            "Train Epoch: 1 [25600/60000 (43%)]\tLoss: 0.099563\n",
            "Train Epoch: 1 [28160/60000 (47%)]\tLoss: 0.173044\n"
          ]
        }
      ]
    },
    {
      "cell_type": "markdown",
      "source": [
        "##   调试用代码"
      ],
      "metadata": {
        "id": "URxzpnOuU-qZ"
      }
    },
    {
      "cell_type": "code",
      "source": [
        "dataset1.train_data.shape, dataset1.train_labels.shape"
      ],
      "metadata": {
        "collapsed": true,
        "id": "66OqCyseUTYo"
      },
      "execution_count": null,
      "outputs": []
    },
    {
      "cell_type": "code",
      "source": [
        "dataset1.test_data.shape, dataset1.test_labels.shape"
      ],
      "metadata": {
        "collapsed": true,
        "id": "qcxytKqUUvEY"
      },
      "execution_count": null,
      "outputs": []
    },
    {
      "cell_type": "code",
      "source": [
        "dataset2.train_data.shape, dataset2.train_labels.shape"
      ],
      "metadata": {
        "collapsed": true,
        "id": "rSR2CQ3aUcAj"
      },
      "execution_count": null,
      "outputs": []
    },
    {
      "cell_type": "code",
      "source": [
        "dataset2.test_data.shape, dataset2.test_labels.shape"
      ],
      "metadata": {
        "collapsed": true,
        "id": "47MIagwuUo4z"
      },
      "execution_count": null,
      "outputs": []
    },
    {
      "cell_type": "markdown",
      "source": [
        "##   开发代码"
      ],
      "metadata": {
        "id": "575lssEjY1gp"
      }
    },
    {
      "cell_type": "code",
      "source": [],
      "metadata": {
        "id": "2IW6_QQ4W_8K"
      },
      "execution_count": null,
      "outputs": []
    }
  ]
}